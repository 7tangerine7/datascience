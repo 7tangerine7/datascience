{
 "cells": [
  {
   "cell_type": "code",
   "execution_count": 1,
   "metadata": {},
   "outputs": [],
   "source": [
    "#частина функцій, дію яких порівнюємо, в func\n",
    "import pandas as pd\n",
    "import numpy as np\n",
    "import time\n",
    "import func \n",
    "import matplotlib.pyplot as plt\n",
    "plt.style.use(\"seaborn-pastel\")\n",
    "%matplotlib inline\n",
    "import seaborn as sns\n",
    "from timeit import timeit \n",
    "import sys"
   ]
  },
  {
   "cell_type": "code",
   "execution_count": 82,
   "metadata": {},
   "outputs": [
    {
     "name": "stderr",
     "output_type": "stream",
     "text": [
      "C:\\Users\\tangerine\\anaconda3\\lib\\site-packages\\IPython\\core\\interactiveshell.py:3254: DtypeWarning: Columns (2,3,4,5,6,7) have mixed types.Specify dtype option on import or set low_memory=False.\n",
      "  if (await self.run_code(code, result,  async_=asy)):\n"
     ]
    }
   ],
   "source": [
    "def p_create():   \n",
    "    df = pd.read_csv('household_power_consumption.txt',index_col=False,  delimiter=';')\n",
    "    df.columns=['date', 'time', 'g_a_p', 'g_r_p', 'voltage', 'g_int', 'sub_m_1','sub_m_2','sub_m_3']\n",
    "    return df\n",
    "df=p_create()"
   ]
  },
  {
   "cell_type": "code",
   "execution_count": 138,
   "metadata": {},
   "outputs": [],
   "source": [
    "#data=df.to_numpy()\n",
    "def n_create():\n",
    "    data = np.loadtxt('household_power_consumption.txt',dtype=object, delimiter=';')\n",
    "    return data\n",
    "data=n_create()\n"
   ]
  },
  {
   "cell_type": "code",
   "execution_count": 84,
   "metadata": {},
   "outputs": [],
   "source": [
    "def create_plot(df0,data0,p_fun,n_fun):\n",
    "    quan=[10**x for x in range(1,8)]\n",
    "    p_time=[p_fun(df0.loc[:x,:]) for x in quan]\n",
    "    n_time=[n_fun(data0[1:x,:]) for x in quan]\n",
    "    fig, ax = plt.subplots()  \n",
    "    plt.yscale('log')\n",
    "    plt.xscale('log')\n",
    "    ax.plot(quan,p_time, label='pandas')  \n",
    "    ax.plot(quan,n_time, label='numpy') \n",
    "    ax.set_xlabel('quantity') \n",
    "    ax.set_ylabel('time')  \n",
    "    ax.legend() "
   ]
  },
  {
   "cell_type": "code",
   "execution_count": 85,
   "metadata": {},
   "outputs": [
    {
     "data": {
      "text/plain": [
       "array([['16/12/2006', '17:24:00', '4.216', '0.418', '234.840', '18.400',\n",
       "        '0.000', '1.000', '17.000'],\n",
       "       ['16/12/2006', '17:25:00', '5.360', '0.436', '233.630', '23.000',\n",
       "        '0.000', '1.000', '16.000'],\n",
       "       ['16/12/2006', '17:26:00', '5.374', '0.498', '233.290', '23.000',\n",
       "        '0.000', '2.000', '17.000'],\n",
       "       ['16/12/2006', '17:27:00', '5.388', '0.502', '233.740', '23.000',\n",
       "        '0.000', '1.000', '17.000'],\n",
       "       ['16/12/2006', '17:28:00', '3.666', '0.528', '235.680', '15.800',\n",
       "        '0.000', '1.000', '17.000'],\n",
       "       ['16/12/2006', '17:29:00', '3.520', '0.522', '235.020', '15.000',\n",
       "        '0.000', '2.000', '17.000'],\n",
       "       ['16/12/2006', '17:30:00', '3.702', '0.520', '235.090', '15.800',\n",
       "        '0.000', '1.000', '17.000'],\n",
       "       ['16/12/2006', '17:31:00', '3.700', '0.520', '235.220', '15.800',\n",
       "        '0.000', '1.000', '17.000'],\n",
       "       ['16/12/2006', '17:32:00', '3.668', '0.510', '233.990', '15.800',\n",
       "        '0.000', '1.000', '17.000']], dtype='<U21')"
      ]
     },
     "execution_count": 85,
     "metadata": {},
     "output_type": "execute_result"
    }
   ],
   "source": [
    "data[1:10,:]"
   ]
  },
  {
   "cell_type": "code",
   "execution_count": 94,
   "metadata": {},
   "outputs": [
    {
     "name": "stderr",
     "output_type": "stream",
     "text": [
      "C:\\Users\\tangerine\\anaconda3\\lib\\site-packages\\numpy\\lib\\arraysetops.py:569: FutureWarning: elementwise comparison failed; returning scalar instead, but in the future will perform elementwise comparison\n",
      "  mask |= (ar1 == a)\n"
     ]
    },
    {
     "data": {
      "image/png": "[encoded data removed]",
      "text/plain": [
       "<Figure size 432x288 with 1 Axes>"
      ]
     },
     "metadata": {
      "needs_background": "light"
     },
     "output_type": "display_data"
    }
   ],
   "source": [
    "#видалення '?', для numpy до 10^4 недостатньо точне вимірювання часу\n",
    "def p_del(df0):\n",
    "    start_time = time.time()\n",
    "    df0.loc[~df['sub_m_2'].isin(['?'])]\n",
    "    return time.time() - start_time\n",
    "def n_del(data0):\n",
    "    start_time = time.time()\n",
    "    data0[np.where(data0[1:,6]!='?')]\n",
    "    return time.time() - start_time\n",
    "create_plot(df,data,p_del,n_del)"
   ]
  },
  {
   "cell_type": "code",
   "execution_count": 87,
   "metadata": {},
   "outputs": [
    {
     "data": {
      "text/plain": [
       "[0.0010290145874023438,\n",
       " 0.0,\n",
       " 0.0,\n",
       " 0.006951093673706055,\n",
       " 0.05185985565185547,\n",
       " 0.436298131942749,\n",
       " 0.9174985885620117]"
      ]
     },
     "execution_count": 87,
     "metadata": {},
     "output_type": "execute_result"
    }
   ],
   "source": [
    "quan=[10**x for x in range(1,8)]\n",
    "n_time=[n_del(data[1:x,:]) for x in quan]\n",
    "n_time"
   ]
  },
  {
   "cell_type": "code",
   "execution_count": 140,
   "metadata": {},
   "outputs": [
    {
     "name": "stderr",
     "output_type": "stream",
     "text": [
      "C:\\Users\\tangerine\\anaconda3\\lib\\site-packages\\numpy\\lib\\arraysetops.py:569: FutureWarning: elementwise comparison failed; returning scalar instead, but in the future will perform elementwise comparison\n",
      "  mask |= (ar1 == a)\n"
     ]
    }
   ],
   "source": [
    "df=df.loc[~df['sub_m_2'].isin(['?'])]\n",
    "data=data[np.where(data[:,4]!='?')]"
   ]
  },
  {
   "cell_type": "code",
   "execution_count": 101,
   "metadata": {},
   "outputs": [
    {
     "data": {
      "text/plain": [
       "array([], shape=(0, 9), dtype='<U21')"
      ]
     },
     "execution_count": 101,
     "metadata": {},
     "output_type": "execute_result"
    }
   ],
   "source": [
    "data[np.where(data[:,2]=='?')]"
   ]
  },
  {
   "cell_type": "code",
   "execution_count": 142,
   "metadata": {},
   "outputs": [],
   "source": [
    "df.loc[:,'g_a_p':'sub_m_3']=df.loc[:,'g_a_p':'sub_m_3'].apply(pd.to_numeric)\n",
    "#data[1:,2:]=data[1:,2:].astype(float)\n",
    "#не спрацювало, тому нище перетворення циклом"
   ]
  },
  {
   "cell_type": "code",
   "execution_count": 157,
   "metadata": {},
   "outputs": [
    {
     "data": {
      "text/plain": [
       "float"
      ]
     },
     "execution_count": 157,
     "metadata": {},
     "output_type": "execute_result"
    }
   ],
   "source": [
    "#data[1:,2]=data[1:,2].astype(float)\n",
    "for y in (2,data[1:,:].shape[1]-1):\n",
    "    for x in (1,data[1:,y].shape[0]):\n",
    "        data[x,y]=float(data[x,y])\n",
    "type(data[2,2])\n",
    "type(data[2,4])"
   ]
  },
  {
   "cell_type": "code",
   "execution_count": 146,
   "metadata": {},
   "outputs": [
    {
     "data": {
      "image/png": "[encoded data removed]",
      "text/plain": [
       "<Figure size 432x288 with 1 Axes>"
      ]
     },
     "metadata": {
      "needs_background": "light"
     },
     "output_type": "display_data"
    }
   ],
   "source": [
    "#1 пункт\n",
    "def p_1(df0):\n",
    "    start_time = time.time()\n",
    "    df0.loc[df0['g_a_p']>5]\n",
    "    times=time.time() - start_time\n",
    "    return times\n",
    "def n_1(data0):   \n",
    "    start_time = time.time()\n",
    "    data0[np.where(data0[1:,2]>5.0)]\n",
    "    return (time.time() - start_time)\n",
    "create_plot(df,data,p_1,n_1)\n"
   ]
  },
  {
   "cell_type": "code",
   "execution_count": 159,
   "metadata": {},
   "outputs": [
    {
     "data": {
      "image/png": "[encoded data removed]",
      "text/plain": [
       "<Figure size 432x288 with 1 Axes>"
      ]
     },
     "metadata": {
      "needs_background": "light"
     },
     "output_type": "display_data"
    }
   ],
   "source": [
    "def p_2(df0):    \n",
    "    start_time = time.time()\n",
    "    df0.loc[df['voltage']>235]\n",
    "    return time.time() - start_time\n",
    "def n_2(data0):\n",
    "    start_time = time.time()\n",
    "    data0[np.where(data0[1:,4]>235.0)]\n",
    "    return time.time() - start_time \n",
    "create_plot(df,data,p_2,n_2)"
   ]
  },
  {
   "cell_type": "code",
   "execution_count": null,
   "metadata": {},
   "outputs": [],
   "source": [
    "data[1:10,:]"
   ]
  },
  {
   "cell_type": "code",
   "execution_count": null,
   "metadata": {},
   "outputs": [],
   "source": []
  },
  {
   "cell_type": "code",
   "execution_count": 160,
   "metadata": {},
   "outputs": [
    {
     "data": {
      "image/png": "[encoded data removed]",
      "text/plain": [
       "<Figure size 432x288 with 1 Axes>"
      ]
     },
     "metadata": {
      "needs_background": "light"
     },
     "output_type": "display_data"
    }
   ],
   "source": [
    "def p_3(df0):  \n",
    "    start_time = time.time()\n",
    "    df0.loc[(df0['g_int']>=19) & (df0['g_int']<=20) & (df0['sub_m_2'] > df0['sub_m_3'])]\n",
    "    return time.time() - start_time\n",
    "def n_3(data0):\n",
    "    start_time = time.time()\n",
    "    data0[np.where((data0[:,5]>=19) & (data0[:,5]<=20) & (data0[:,7] > data0[:,8]))]\n",
    "    return time.time() - start_time\n",
    "create_plot(df,data,p_3,n_3)"
   ]
  },
  {
   "cell_type": "code",
   "execution_count": 170,
   "metadata": {},
   "outputs": [
    {
     "data": {
      "image/png": "[encoded data removed]",
      "text/plain": [
       "<Figure size 432x288 with 1 Axes>"
      ]
     },
     "metadata": {
      "needs_background": "light"
     },
     "output_type": "display_data"
    }
   ],
   "source": [
    "def p_5(df0):  \n",
    "        start_time = time.time()\n",
    "        #df2['g_mean']=df2[['g_a_p', 'g_r_p']].mean(axis=1)\n",
    "        df2=df0.loc[((df0['time']>='18:00:00')& (df0['g_a_p']>6) & (df0['sub_m_2'] > df0['sub_m_1']) & (df0['sub_m_2'] > df0['sub_m_3']))]\n",
    "        df2=df2.reset_index(drop=True)\n",
    "        df2.loc[:df2.shape[0]/2,:][0::3]             \n",
    "        df2.loc[df2.shape[0]/2:,:][::4]\n",
    "        return time.time() - start_time\n",
    "def n_5(data0):\n",
    "    start_time = time.time()\n",
    "    #data3=np.concatenate((data3, (np.mean(data3[:,2:4], axis = 1)).reshape((data3.shape[0],1))),axis=1)\n",
    "    data4=data0[np.where((data0[:,0]>='18:00:00') & (data0[:,2]>6.0) & (data0[:,7] > data0[:,6]) & (data0[:,7] > data0[:,8]))]\n",
    "    list=np.array_split(data4,2,axis=1)\n",
    "    list[0][::4]\n",
    "    list[1][::3]\n",
    "    return time.time() - start_time\n",
    "create_plot(df,data,p_5,n_5)"
   ]
  }
 ],
 "metadata": {
  "kernelspec": {
   "display_name": "Python 3",
   "language": "python",
   "name": "python3"
  },
  "language_info": {
   "codemirror_mode": {
    "name": "ipython",
    "version": 3
   },
   "file_extension": ".py",
   "mimetype": "text/x-python",
   "name": "python",
   "nbconvert_exporter": "python",
   "pygments_lexer": "ipython3",
   "version": "3.7.6"
  }
 },
 "nbformat": 4,
 "nbformat_minor": 4
}
